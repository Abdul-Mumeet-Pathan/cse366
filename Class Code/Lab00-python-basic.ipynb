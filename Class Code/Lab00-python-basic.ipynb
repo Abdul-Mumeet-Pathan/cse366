{
 "cells": [
  {
   "cell_type": "markdown",
   "metadata": {
    "id": "oOQ2sQH1NZVR"
   },
   "source": [
    "# **Python**\n",
    "**List of Topics**\n",
    "\n",
    "---\n",
    "\n",
    "\n",
    "1. Python Variable\n",
    "2. Python Type Conversion\n",
    "3. Python Input Output\n",
    "4. Arithmetic Operators in Python\n",
    "5. Comparison Operators\n",
    "6. Logical Operators\n",
    "7. Python if…else Statement\n",
    "8. Python if…elif…else Statement\n",
    "9. Python Nested if Statements\n",
    "10. Python for Loop\n",
    "11. Python Nested for Loop\n",
    "12. Python Mathematics\n",
    "13. Python List\n",
    "14. Python Tuple\n",
    "15. List Tuple Conversion\n",
    "16. Python String\n",
    "17. Python Set\n",
    "18. Python Dictionary\n",
    "19. Python Function"
   ]
  },
  {
   "cell_type": "markdown",
   "metadata": {
    "id": "gAnAcJwKNk_c"
   },
   "source": [
    "**Python Variables**"
   ]
  },
  {
   "cell_type": "code",
   "execution_count": 11,
   "metadata": {
    "id": "rPYAII42L_Qe"
   },
   "outputs": [
    {
     "name": "stdout",
     "output_type": "stream",
     "text": [
      "Name: John\n",
      "Age: 30\n",
      "Height: 6.1\n",
      "Is Student: False\n"
     ]
    }
   ],
   "source": [
    "# Variable Declaration and Assignment\n",
    "name = \"John\"\n",
    "age = 30\n",
    "height = 6.1\n",
    "is_student = False\n",
    "\n",
    "# Outputting variable values\n",
    "print(\"Name:\", name)\n",
    "print(\"Age:\", age)\n",
    "print(\"Height:\", height)\n",
    "print(\"Is Student:\", is_student)"
   ]
  },
  {
   "cell_type": "code",
   "execution_count": 12,
   "metadata": {
    "id": "KvSSTcTtSQ3t"
   },
   "outputs": [
    {
     "name": "stdout",
     "output_type": "stream",
     "text": [
      "Updated Name: Alice\n",
      "Updated Age: 25\n"
     ]
    }
   ],
   "source": [
    "# Variable Reassignment\n",
    "name = \"Alice\"\n",
    "age = 25\n",
    "\n",
    "# Updated Output\n",
    "print(\"Updated Name:\", name)\n",
    "print(\"Updated Age:\", age)"
   ]
  },
  {
   "cell_type": "code",
   "execution_count": 13,
   "metadata": {
    "id": "PHC9wBYTNTgW"
   },
   "outputs": [
    {
     "name": "stdout",
     "output_type": "stream",
     "text": [
      "Variable Types:\n",
      "Type of name: <class 'str'>\n",
      "Type of age: <class 'int'>\n",
      "Type of height: <class 'float'>\n",
      "Type of is_student: <class 'bool'>\n"
     ]
    }
   ],
   "source": [
    "# Variable Types\n",
    "print(\"Variable Types:\")\n",
    "print(\"Type of name:\", type(name))\n",
    "print(\"Type of age:\", type(age))\n",
    "print(\"Type of height:\", type(height))\n",
    "print(\"Type of is_student:\", type(is_student))"
   ]
  },
  {
   "cell_type": "code",
   "execution_count": 14,
   "metadata": {
    "id": "6qoQwazqNV2x"
   },
   "outputs": [
    {
     "name": "stdout",
     "output_type": "stream",
     "text": [
      "Operations:\n",
      "Sum: 15\n",
      "Difference: 5\n",
      "Product: 50\n",
      "Division: 2.0\n"
     ]
    }
   ],
   "source": [
    "# Variable Operations\n",
    "a = 10\n",
    "b = 5\n",
    "sum_result = a + b\n",
    "difference_result = a - b\n",
    "product_result = a * b\n",
    "division_result = a / b\n",
    "\n",
    "# Outputting Results\n",
    "print(\"Operations:\")\n",
    "print(\"Sum:\", sum_result)\n",
    "print(\"Difference:\", difference_result)\n",
    "print(\"Product:\", product_result)\n",
    "print(\"Division:\", division_result)"
   ]
  },
  {
   "cell_type": "markdown",
   "metadata": {
    "id": "N9jvAaa7Ns1V"
   },
   "source": [
    "**Python Type Conversion**"
   ]
  },
  {
   "cell_type": "code",
   "execution_count": 15,
   "metadata": {
    "id": "-o9PzSRyN28D"
   },
   "outputs": [
    {
     "name": "stdout",
     "output_type": "stream",
     "text": [
      "Data type of num_string before Type Casting: <class 'str'>\n",
      "Data type of num_string after Type Casting: <class 'int'>\n",
      "Sum: 35\n",
      "Data type of num_sum: <class 'int'>\n"
     ]
    }
   ],
   "source": [
    "num_string = '12'\n",
    "num_integer = 23\n",
    "\n",
    "print(\"Data type of num_string before Type Casting:\",type(num_string))\n",
    "\n",
    "num_string = int(num_string)\n",
    "\n",
    "print(\"Data type of num_string after Type Casting:\",type(num_string))\n",
    "\n",
    "num_sum = num_integer + num_string\n",
    "\n",
    "print(\"Sum:\",num_sum)\n",
    "print(\"Data type of num_sum:\",type(num_sum))"
   ]
  },
  {
   "cell_type": "code",
   "execution_count": 16,
   "metadata": {
    "id": "YF_-cmPCV4Ux"
   },
   "outputs": [
    {
     "name": "stdout",
     "output_type": "stream",
     "text": [
      "2\n",
      "-2\n",
      "5.0\n",
      "(3+5j)\n"
     ]
    }
   ],
   "source": [
    "num1 = int(2.3)\n",
    "print(num1)\n",
    "\n",
    "num2 = int(-2.8)\n",
    "print(num2)\n",
    "\n",
    "num3 = float(5)\n",
    "print(num3)\n",
    "\n",
    "num4 = complex('3+5j')\n",
    "print(num4)"
   ]
  },
  {
   "cell_type": "markdown",
   "metadata": {
    "id": "dHEWwl9QN86r"
   },
   "source": [
    "**Python Input and Output**"
   ]
  },
  {
   "cell_type": "code",
   "execution_count": 17,
   "metadata": {
    "id": "TYaFRCgzOeXb"
   },
   "outputs": [
    {
     "name": "stdout",
     "output_type": "stream",
     "text": [
      "Hello, kj!\n",
      "You are 20 years old.\n",
      "You were born in the year 2004\n"
     ]
    }
   ],
   "source": [
    "# Input\n",
    "name = input(\"Enter your name: \")\n",
    "age = int(input(\"Enter your age: \"))\n",
    "\n",
    "year_of_birth = 2024 - age\n",
    "\n",
    "# Output\n",
    "print(\"Hello, \" + name + \"!\")\n",
    "print(\"You are\", age, \"years old.\")\n",
    "print(\"You were born in the year\", year_of_birth)"
   ]
  },
  {
   "cell_type": "markdown",
   "metadata": {
    "id": "CtK35lFiOmqQ"
   },
   "source": [
    "**Arithmetic Operators in Python**"
   ]
  },
  {
   "cell_type": "code",
   "execution_count": 18,
   "metadata": {
    "id": "TDnyIgi1PBX6"
   },
   "outputs": [
    {
     "name": "stdout",
     "output_type": "stream",
     "text": [
      "Sum:  9\n",
      "Subtraction:  5\n",
      "Multiplication:  14\n",
      "Division:  3.5\n",
      "Floor Division:  3\n",
      "Modulo:  1\n",
      "Power:  2401\n",
      "9\n"
     ]
    }
   ],
   "source": [
    "a = 7\n",
    "b = 2\n",
    "\n",
    "# addition\n",
    "print ('Sum: ', a + b)\n",
    "\n",
    "# subtraction\n",
    "print ('Subtraction: ', a - b)\n",
    "\n",
    "# multiplication\n",
    "print ('Multiplication: ', a * b)\n",
    "\n",
    "# division\n",
    "print ('Division: ', a / b)\n",
    "\n",
    "# floor division\n",
    "print ('Floor Division: ', a // b)\n",
    "\n",
    "# modulo\n",
    "print ('Modulo: ', a % b)\n",
    "\n",
    "# a to the power b\n",
    "print ('Power: ', a ** b **2)\n",
    "\n",
    "# assignment operator\n",
    "a += b      # a = a + b\n",
    "print (a)"
   ]
  },
  {
   "cell_type": "markdown",
   "metadata": {
    "id": "6Mn6bkr3PF7B"
   },
   "source": [
    "**Comparison Operators**"
   ]
  },
  {
   "cell_type": "code",
   "execution_count": 19,
   "metadata": {
    "id": "aPIglsPjPFc2"
   },
   "outputs": [
    {
     "name": "stdout",
     "output_type": "stream",
     "text": [
      "(a == b)-->  False\n",
      "(a != b)-->  True\n",
      "(a > b)-->  True\n",
      "(a < b)-->  False\n",
      "(a >= b)-->  True\n",
      "(a <= b)-->  False\n"
     ]
    }
   ],
   "source": [
    "a = 5\n",
    "b = 2\n",
    "\n",
    "# equal to operator\n",
    "print('(a == b)--> ', a == b)\n",
    "\n",
    "# not equal to operator\n",
    "print('(a != b)--> ', a != b)\n",
    "\n",
    "# greater than operator\n",
    "print('(a > b)--> ', a > b)\n",
    "\n",
    "# less than operator\n",
    "print('(a < b)--> ', a < b)\n",
    "\n",
    "# greater than or equal to operator\n",
    "print('(a >= b)--> ', a >= b)\n",
    "\n",
    "# less than or equal to operator\n",
    "print('(a <= b)--> ', a <= b)"
   ]
  },
  {
   "cell_type": "markdown",
   "metadata": {
    "id": "X4nLSdEFP4vB"
   },
   "source": [
    "**Logical Operators**"
   ]
  },
  {
   "cell_type": "code",
   "execution_count": 20,
   "metadata": {
    "id": "srxdLpQJQScw"
   },
   "outputs": [
    {
     "name": "stdout",
     "output_type": "stream",
     "text": [
      "True\n",
      "False\n",
      "True\n",
      "False\n"
     ]
    }
   ],
   "source": [
    "# logical AND\n",
    "print(True and True)\n",
    "print(True and False)\n",
    "\n",
    "# logical OR\n",
    "print(True or False)\n",
    "\n",
    "# logical NOT\n",
    "print(not True)"
   ]
  },
  {
   "cell_type": "markdown",
   "metadata": {
    "id": "N2xP0onVQduW"
   },
   "source": [
    "**Python if…else Statement**"
   ]
  },
  {
   "cell_type": "code",
   "execution_count": 21,
   "metadata": {
    "id": "Jn39DpzJRHgy"
   },
   "outputs": [
    {
     "name": "stdout",
     "output_type": "stream",
     "text": [
      "Positive number\n",
      "This statement always executes\n"
     ]
    }
   ],
   "source": [
    "number = 10\n",
    "\n",
    "if number > 0:\n",
    "    print('Positive number')\n",
    "\n",
    "else:\n",
    "    print('Negative number')\n",
    "\n",
    "print('This statement always executes')"
   ]
  },
  {
   "cell_type": "markdown",
   "metadata": {
    "id": "7F99GZReRKLQ"
   },
   "source": [
    "**Python if…elif…else Statement**"
   ]
  },
  {
   "cell_type": "code",
   "execution_count": 22,
   "metadata": {
    "id": "LdlzEKT1G6jf"
   },
   "outputs": [
    {
     "name": "stdout",
     "output_type": "stream",
     "text": [
      "The number is between 10 and 19.\n"
     ]
    }
   ],
   "source": [
    "number = 15\n",
    "\n",
    "if number < 10:\n",
    "    print(\"The number is less than 10.\")\n",
    "elif number < 20:\n",
    "    print(\"The number is between 10 and 19.\")\n",
    "elif number < 30:\n",
    "    print(\"The number is between 20 and 29.\")\n",
    "else:\n",
    "    print(\"The number is 30 or greater.\")"
   ]
  },
  {
   "cell_type": "markdown",
   "metadata": {
    "id": "nENeaAzORR0H"
   },
   "source": [
    "**Python Nested if Statements**"
   ]
  },
  {
   "cell_type": "code",
   "execution_count": 23,
   "metadata": {
    "id": "TSQUcrdlRUnq"
   },
   "outputs": [
    {
     "name": "stdout",
     "output_type": "stream",
     "text": [
      "You are a young adult.\n"
     ]
    }
   ],
   "source": [
    "age = 29\n",
    "\n",
    "if age < 18:\n",
    "    if age < 13:\n",
    "        print(\"You are a child.\")\n",
    "    else:\n",
    "        print(\"You are a teenager.\")\n",
    "else:\n",
    "    if age < 30:\n",
    "        print(\"You are a young adult.\")\n",
    "    elif age < 60:\n",
    "        print(\"You are a middle-aged adult.\")\n",
    "    else:\n",
    "        print(\"You are a senior adult.\")"
   ]
  },
  {
   "cell_type": "markdown",
   "metadata": {
    "id": "V58XZIxjRYv_"
   },
   "source": [
    "**Python for Loop**"
   ]
  },
  {
   "cell_type": "code",
   "execution_count": 24,
   "metadata": {
    "id": "gB6UsaO4RxZ5"
   },
   "outputs": [
    {
     "name": "stdout",
     "output_type": "stream",
     "text": [
      "0\n",
      "1\n",
      "2\n",
      "3\n"
     ]
    }
   ],
   "source": [
    "# iterate from i = 0 to i = 3\n",
    "for i in range(4):\n",
    "    print(i)"
   ]
  },
  {
   "cell_type": "code",
   "execution_count": 25,
   "metadata": {
    "id": "YHoQmFB2T1K8"
   },
   "outputs": [
    {
     "name": "stdout",
     "output_type": "stream",
     "text": [
      "1\n",
      "3\n",
      "5\n"
     ]
    }
   ],
   "source": [
    "i = 1\n",
    "end = 6\n",
    "inc = 2\n",
    "\n",
    "for i in range(i, end, inc):\n",
    "  print(i)"
   ]
  },
  {
   "cell_type": "code",
   "execution_count": 26,
   "metadata": {
    "id": "JAgUXeCQR4B8"
   },
   "outputs": [
    {
     "name": "stdout",
     "output_type": "stream",
     "text": [
      "2\n",
      "4\n",
      "6\n",
      "8\n",
      "10\n"
     ]
    }
   ],
   "source": [
    "# Define a list of numbers\n",
    "numbers = [1, 2, 3, 4, 5]\n",
    "\n",
    "for num in numbers:\n",
    "    # Print each number multiplied by 2\n",
    "    print(num * 2)"
   ]
  },
  {
   "cell_type": "code",
   "execution_count": 27,
   "metadata": {
    "id": "OdGX7BuzTKLI"
   },
   "outputs": [
    {
     "name": "stdout",
     "output_type": "stream",
     "text": [
      "Swift\n",
      "Python\n",
      "Go\n"
     ]
    }
   ],
   "source": [
    "languages = ['Swift', 'Python', 'Go']\n",
    "\n",
    "for i in languages:\n",
    "    print(i)"
   ]
  },
  {
   "cell_type": "code",
   "execution_count": 28,
   "metadata": {
    "id": "8BnNHT5oTOjM"
   },
   "outputs": [
    {
     "name": "stdout",
     "output_type": "stream",
     "text": [
      "0\n",
      "1\n",
      "2\n"
     ]
    }
   ],
   "source": [
    "for i in range(5):\n",
    "    if i == 3:\n",
    "        break\n",
    "    print(i)"
   ]
  },
  {
   "cell_type": "code",
   "execution_count": 29,
   "metadata": {
    "id": "W79cqfbWTWgu"
   },
   "outputs": [
    {
     "name": "stdout",
     "output_type": "stream",
     "text": [
      "0\n",
      "1\n",
      "2\n",
      "4\n"
     ]
    }
   ],
   "source": [
    "for i in range(5):\n",
    "    if i == 3:\n",
    "        continue\n",
    "    print(i)"
   ]
  },
  {
   "cell_type": "markdown",
   "metadata": {
    "id": "N20AEfyKeuCv"
   },
   "source": [
    "**Python Nested for Loop**"
   ]
  },
  {
   "cell_type": "code",
   "execution_count": 30,
   "metadata": {
    "id": "5sflwW1HetkA"
   },
   "outputs": [
    {
     "name": "stdout",
     "output_type": "stream",
     "text": [
      "apple red\n",
      "apple yellow\n",
      "apple black\n",
      "banana red\n",
      "banana yellow\n",
      "banana black\n",
      "cherry red\n",
      "cherry yellow\n",
      "cherry black\n"
     ]
    }
   ],
   "source": [
    "# Define a list of fruits\n",
    "fruits = [\"apple\", \"banana\", \"cherry\"]\n",
    "\n",
    "# Define a list of colors\n",
    "colors = [\"red\", \"yellow\", \"black\"]\n",
    "\n",
    "# Nested loop to combine each fruit with each color\n",
    "for fruit in fruits:\n",
    "    for color in colors:\n",
    "        print(fruit, color)"
   ]
  },
  {
   "cell_type": "markdown",
   "metadata": {
    "id": "LUWemH1YTbN3"
   },
   "source": [
    "**Python Mathematics**"
   ]
  },
  {
   "cell_type": "code",
   "execution_count": 31,
   "metadata": {
    "id": "tFA2xoIDWQTM"
   },
   "outputs": [
    {
     "name": "stdout",
     "output_type": "stream",
     "text": [
      "\n",
      "Trigonometric Functions:\n",
      "Sine of 30 degrees: 0.49999999999999994\n",
      "Cosine of 30 degrees: 0.8660254037844387\n",
      "Tangent of 30 degrees: 0.5773502691896257\n",
      "\n",
      "Logarithmic and Exponential Functions:\n",
      "Natural Logarithm (base e) of 2: 0.6931471805599453\n",
      "Logarithm base 10 of 100: 2.0\n",
      "Exponential of 2: 7.38905609893065\n",
      "\n",
      "Constants:\n",
      "Value of pi: 3.141592653589793\n",
      "Value of e: 2.718281828459045\n"
     ]
    }
   ],
   "source": [
    "import math\n",
    "\n",
    "# Trigonometric functions\n",
    "print(\"\\nTrigonometric Functions:\")\n",
    "print(\"Sine of 30 degrees:\", math.sin(math.radians(30)))\n",
    "print(\"Cosine of 30 degrees:\", math.cos(math.radians(30)))\n",
    "print(\"Tangent of 30 degrees:\", math.tan(math.radians(30)))\n",
    "\n",
    "# Logarithmic and exponential functions\n",
    "print(\"\\nLogarithmic and Exponential Functions:\")\n",
    "print(\"Natural Logarithm (base e) of 2:\", math.log(2))\n",
    "print(\"Logarithm base 10 of 100:\", math.log10(100))\n",
    "print(\"Exponential of 2:\", math.exp(2))\n",
    "\n",
    "# Constants\n",
    "print(\"\\nConstants:\")\n",
    "print(\"Value of pi:\", math.pi)\n",
    "print(\"Value of e:\", math.e)"
   ]
  },
  {
   "cell_type": "markdown",
   "metadata": {
    "id": "EEpiF5F1WSew"
   },
   "source": [
    "**Python List**"
   ]
  },
  {
   "cell_type": "code",
   "execution_count": 32,
   "metadata": {
    "id": "pxdTFYPFXQQi"
   },
   "outputs": [
    {
     "name": "stdout",
     "output_type": "stream",
     "text": [
      "Original list of colors: ['Red', 'Black', 'Green']\n"
     ]
    }
   ],
   "source": [
    "colors = ['Red', 'Black', 'Green']\n",
    "\n",
    "# Print the original list\n",
    "print(\"Original list of colors:\", colors)"
   ]
  },
  {
   "cell_type": "code",
   "execution_count": 33,
   "metadata": {
    "id": "B2hue9VCXVZl"
   },
   "outputs": [
    {
     "name": "stdout",
     "output_type": "stream",
     "text": [
      "First color: Red\n",
      "Last color: Green\n",
      "Last color: Green\n",
      "Sliced colors: ['Black', 'Green']\n"
     ]
    }
   ],
   "source": [
    "# Accessing elements in the list\n",
    "print(\"First color:\", colors[0])\n",
    "print(\"Last color:\", colors[2])\n",
    "print(\"Last color:\", colors[-1])\n",
    "print(\"Sliced colors:\", colors[-2:])"
   ]
  },
  {
   "cell_type": "code",
   "execution_count": 34,
   "metadata": {
    "id": "_z5FV9gHXcB7"
   },
   "outputs": [
    {
     "name": "stdout",
     "output_type": "stream",
     "text": [
      "Modified list after changing the first color to Blue: ['Blue', 'Black', 'Green']\n"
     ]
    }
   ],
   "source": [
    "colors[0] = 'Blue'\n",
    "print(\"Modified list after changing the first color to Blue:\", colors)"
   ]
  },
  {
   "cell_type": "code",
   "execution_count": 35,
   "metadata": {
    "id": "iNECTVWAXytH"
   },
   "outputs": [
    {
     "name": "stdout",
     "output_type": "stream",
     "text": [
      "List after appending Yellow: ['Blue', 'Black', 'Green', 'Yellow']\n"
     ]
    }
   ],
   "source": [
    "colors.append('Yellow')\n",
    "print(\"List after appending Yellow:\", colors)"
   ]
  },
  {
   "cell_type": "code",
   "execution_count": 36,
   "metadata": {
    "id": "RxS6zqfQX18W"
   },
   "outputs": [
    {
     "name": "stdout",
     "output_type": "stream",
     "text": [
      "List after inserting White at index 1: ['Blue', 'White', 'Black', 'Green', 'Yellow']\n"
     ]
    }
   ],
   "source": [
    "colors.insert(1, 'White')\n",
    "print(\"List after inserting White at index 1:\", colors)"
   ]
  },
  {
   "cell_type": "code",
   "execution_count": 37,
   "metadata": {
    "id": "nWLSIu2wX5za"
   },
   "outputs": [
    {
     "name": "stdout",
     "output_type": "stream",
     "text": [
      "List after removing Black: ['White', 'Black', 'Green', 'Yellow']\n"
     ]
    }
   ],
   "source": [
    "colors.remove(colors[0])\n",
    "print(\"List after removing Black:\", colors)"
   ]
  },
  {
   "cell_type": "code",
   "execution_count": 38,
   "metadata": {
    "id": "d_vK3Y0BX9mt"
   },
   "outputs": [
    {
     "name": "stdout",
     "output_type": "stream",
     "text": [
      "Number of colors in the list: 4\n",
      "Reversed list of colors: ['Yellow', 'Green', 'Black', 'White']\n"
     ]
    }
   ],
   "source": [
    "# List operations\n",
    "print(\"Number of colors in the list:\", len(colors))\n",
    "print(\"Reversed list of colors:\", list(reversed(colors)))"
   ]
  },
  {
   "cell_type": "code",
   "execution_count": 39,
   "metadata": {
    "id": "2CiPe_U6YFdX"
   },
   "outputs": [
    {
     "name": "stdout",
     "output_type": "stream",
     "text": [
      "Is 'Green' present in the list? False\n"
     ]
    }
   ],
   "source": [
    "# Checking if an element is in the list\n",
    "print(\"Is 'Green' present in the list?\", 'green' in colors)"
   ]
  },
  {
   "cell_type": "code",
   "execution_count": 40,
   "metadata": {
    "id": "fixFU_rHYXlq"
   },
   "outputs": [
    {
     "name": "stdout",
     "output_type": "stream",
     "text": [
      "Iterating over the list of colors:\n",
      "White\n",
      "Black\n",
      "Green\n",
      "Yellow\n"
     ]
    }
   ],
   "source": [
    "# Iterating over the list\n",
    "print(\"Iterating over the list of colors:\")\n",
    "for color in colors:\n",
    "    print(color)"
   ]
  },
  {
   "cell_type": "code",
   "execution_count": 41,
   "metadata": {
    "id": "Av7JT-OjYGYP"
   },
   "outputs": [
    {
     "name": "stdout",
     "output_type": "stream",
     "text": [
      "Sorted list of colors: [1, 2, 3, 4, 5]\n"
     ]
    }
   ],
   "source": [
    "my_list = [2, 1, 4, 5, 3]\n",
    "print(\"Sorted list of colors:\", sorted(my_list))"
   ]
  },
  {
   "cell_type": "markdown",
   "metadata": {
    "id": "FHo1hYzBY8vb"
   },
   "source": [
    "**Python Tuple**"
   ]
  },
  {
   "cell_type": "markdown",
   "metadata": {
    "id": "CBMvBB1PJiy4"
   },
   "source": [
    "1. Once a tuple is created, its elements cannot be modified, added, or removed. (Immutable)\n",
    "2. Elements in a tuple can be accessed using their index, starting from 0 for the first element.\n",
    "3. A tuple can hold elements of different types, including other tuples.\n",
    "\n"
   ]
  },
  {
   "cell_type": "code",
   "execution_count": 42,
   "metadata": {
    "id": "WLgQB5GFY18s"
   },
   "outputs": [
    {
     "name": "stdout",
     "output_type": "stream",
     "text": [
      "First element: 1\n",
      "Last element: c\n",
      "Slicing tuple: (3, 'a', 'b')\n"
     ]
    }
   ],
   "source": [
    "# Define a tuple\n",
    "my_tuple = (1, 2, 3, 'a', 'b', 'c')\n",
    "\n",
    "# Accessing elements of a tuple\n",
    "print(\"First element:\", my_tuple[0])\n",
    "print(\"Last element:\", my_tuple[-1])\n",
    "print(\"Slicing tuple:\", my_tuple[2:5])"
   ]
  },
  {
   "cell_type": "code",
   "execution_count": 43,
   "metadata": {
    "id": "QRQA3gaiZD2v"
   },
   "outputs": [
    {
     "name": "stdout",
     "output_type": "stream",
     "text": [
      "Length of tuple: 6\n"
     ]
    }
   ],
   "source": [
    "# Length of a tuple\n",
    "print(\"Length of tuple:\", len(my_tuple))"
   ]
  },
  {
   "cell_type": "code",
   "execution_count": 44,
   "metadata": {
    "id": "_JK0UIM7ZJMO"
   },
   "outputs": [
    {
     "name": "stdout",
     "output_type": "stream",
     "text": [
      "Is 'a' in the tuple? True\n"
     ]
    }
   ],
   "source": [
    "# Check if an item exists in a tuple\n",
    "print(\"Is 'a' in the tuple?\", 'a' in my_tuple)"
   ]
  },
  {
   "cell_type": "code",
   "execution_count": 45,
   "metadata": {
    "id": "jNJA65W3ZM-V"
   },
   "outputs": [
    {
     "name": "stdout",
     "output_type": "stream",
     "text": [
      "Iterating through the tuple:\n",
      "1\n",
      "2\n",
      "3\n",
      "a\n",
      "b\n",
      "c\n"
     ]
    }
   ],
   "source": [
    "# Iterate through a tuple\n",
    "print(\"Iterating through the tuple:\")\n",
    "for item in my_tuple:\n",
    "    print(item)"
   ]
  },
  {
   "cell_type": "markdown",
   "metadata": {
    "id": "G9T-16kfZSPS"
   },
   "source": [
    "**List Tuple Conversion**"
   ]
  },
  {
   "cell_type": "code",
   "execution_count": 46,
   "metadata": {
    "id": "BnRU957TZg4_"
   },
   "outputs": [],
   "source": [
    "fruits = ('apple','banana','orange')"
   ]
  },
  {
   "cell_type": "code",
   "execution_count": 47,
   "metadata": {
    "id": "XEYi2wx3ZRph"
   },
   "outputs": [
    {
     "name": "stdout",
     "output_type": "stream",
     "text": [
      "Tuple converted to list: ['apple', 'banana', 'orange']\n"
     ]
    }
   ],
   "source": [
    "# Convert a tuple to a list\n",
    "tuple_as_list = list(fruits)\n",
    "print(\"Tuple converted to list:\", tuple_as_list)"
   ]
  },
  {
   "cell_type": "code",
   "execution_count": 48,
   "metadata": {
    "id": "wCxXiz1bZetx"
   },
   "outputs": [
    {
     "name": "stdout",
     "output_type": "stream",
     "text": [
      "List converted to tuple: ('apple', 'banana', 'orange')\n"
     ]
    }
   ],
   "source": [
    "# Convert a list to a tuple\n",
    "list_as_tuple = tuple(tuple_as_list)\n",
    "print(\"List converted to tuple:\", list_as_tuple)"
   ]
  },
  {
   "cell_type": "markdown",
   "metadata": {
    "id": "j215hbO5Z3Dm"
   },
   "source": [
    "**Python String**"
   ]
  },
  {
   "cell_type": "code",
   "execution_count": 49,
   "metadata": {
    "id": "qC4M3aEcZ5mu"
   },
   "outputs": [
    {
     "name": "stdout",
     "output_type": "stream",
     "text": [
      "Hello World\n"
     ]
    }
   ],
   "source": [
    "# join two string\n",
    "greet = \"Hello \"\n",
    "name = \"World\"\n",
    "\n",
    "# using + operator\n",
    "result = greet + name\n",
    "print(result)"
   ]
  },
  {
   "cell_type": "code",
   "execution_count": 50,
   "metadata": {
    "id": "RHBnHrZvaDom"
   },
   "outputs": [
    {
     "name": "stdout",
     "output_type": "stream",
     "text": [
      "H\n",
      "e\n",
      "l\n",
      "l\n",
      "o\n"
     ]
    }
   ],
   "source": [
    "greet = 'Hello'\n",
    "\n",
    "# iterating through greet string\n",
    "for i in greet:\n",
    "    print(i)"
   ]
  },
  {
   "cell_type": "code",
   "execution_count": 51,
   "metadata": {
    "id": "gdNALPF7aIuG"
   },
   "outputs": [
    {
     "name": "stdout",
     "output_type": "stream",
     "text": [
      "5\n"
     ]
    }
   ],
   "source": [
    "greet = 'Hello'\n",
    "\n",
    "# count length of greet string\n",
    "print(len(greet))"
   ]
  },
  {
   "cell_type": "markdown",
   "metadata": {
    "id": "2mLAa59PaMlz"
   },
   "source": [
    "**Python Set**"
   ]
  },
  {
   "cell_type": "markdown",
   "metadata": {
    "id": "YkQrdpRFKRFr"
   },
   "source": [
    "1. Elements in a set do not have a specific order, and there is no way to access elements by an index (Mutable).\n",
    "2. Sets do not allow duplicate elements. If duplicates are added, they are automatically removed.\n",
    "3. You can add or remove elements from a set.\n",
    "4. Elements cannot be accessed by an index or a key."
   ]
  },
  {
   "cell_type": "code",
   "execution_count": 52,
   "metadata": {
    "id": "crHBs9lmaiSN"
   },
   "outputs": [
    {
     "name": "stdout",
     "output_type": "stream",
     "text": [
      "Initial set: {'plane', 'animal', 'car'}\n"
     ]
    }
   ],
   "source": [
    "# Creating a set\n",
    "toys = {'car', 'plane', 'animal'}\n",
    "print(\"Initial set:\", toys)"
   ]
  },
  {
   "cell_type": "code",
   "execution_count": 53,
   "metadata": {
    "id": "WOzYTHTHalRg"
   },
   "outputs": [
    {
     "name": "stdout",
     "output_type": "stream",
     "text": [
      "After adding 'doll': {'plane', 'animal', 'doll', 'car'}\n"
     ]
    }
   ],
   "source": [
    "# Adding elements to a set\n",
    "toys.add('doll')\n",
    "print(\"After adding 'doll':\", toys)"
   ]
  },
  {
   "cell_type": "code",
   "execution_count": 54,
   "metadata": {
    "id": "EMRYEqgbaoGb"
   },
   "outputs": [
    {
     "name": "stdout",
     "output_type": "stream",
     "text": [
      "After removing 'plane': {'plane', 'doll', 'car'}\n"
     ]
    }
   ],
   "source": [
    "# Removing elements from a set\n",
    "toys.remove('animal')\n",
    "print(\"After removing 'plane':\", toys)"
   ]
  },
  {
   "cell_type": "code",
   "execution_count": 55,
   "metadata": {
    "id": "TMmaBwazbOUy"
   },
   "outputs": [
    {
     "name": "stdout",
     "output_type": "stream",
     "text": [
      "Is 'car' in the set? True\n",
      "Is 'ball' in the set? False\n"
     ]
    }
   ],
   "source": [
    "# Checking membership in a set\n",
    "print(\"Is 'car' in the set?\", 'car' in toys)\n",
    "print(\"Is 'ball' in the set?\", 'ball' in toys)"
   ]
  },
  {
   "cell_type": "code",
   "execution_count": 56,
   "metadata": {
    "id": "hRXSpcdOblu1"
   },
   "outputs": [
    {
     "name": "stdout",
     "output_type": "stream",
     "text": [
      "Length of the set: 3\n"
     ]
    }
   ],
   "source": [
    "# Length of a set\n",
    "print(\"Length of the set:\", len(toys))"
   ]
  },
  {
   "cell_type": "code",
   "execution_count": 57,
   "metadata": {
    "id": "M5sMV73Obp26"
   },
   "outputs": [
    {
     "name": "stdout",
     "output_type": "stream",
     "text": [
      "Cleared set: set()\n"
     ]
    }
   ],
   "source": [
    "# Clearing a set\n",
    "toys.clear()\n",
    "print(\"Cleared set:\", toys)"
   ]
  },
  {
   "cell_type": "code",
   "execution_count": 58,
   "metadata": {
    "id": "cSdGffuQLKaA"
   },
   "outputs": [
    {
     "name": "stdout",
     "output_type": "stream",
     "text": [
      "Union: {1, 2, 3, 4, 5, 6, 7, 8}\n",
      "Intersection: {4, 5}\n",
      "Difference (set1 - set2): {1, 2, 3}\n",
      "Difference (set2 - set1): {8, 6, 7}\n"
     ]
    }
   ],
   "source": [
    "# Set operations: union, intersection, difference\n",
    "\n",
    "set1 = {1, 2, 3, 4, 5}\n",
    "set2 = {4, 5, 6, 7, 8}\n",
    "\n",
    "union_set = set1.union(set2)\n",
    "print(\"Union:\", union_set)\n",
    "\n",
    "intersection_set = set1.intersection(set2)\n",
    "print(\"Intersection:\", intersection_set)\n",
    "\n",
    "difference_set = set1.difference(set2)\n",
    "print(\"Difference (set1 - set2):\", difference_set)\n",
    "\n",
    "difference_set2 = set2.difference(set1)\n",
    "print(\"Difference (set2 - set1):\", difference_set2)"
   ]
  },
  {
   "cell_type": "markdown",
   "metadata": {
    "id": "sF6nWDCxcIxx"
   },
   "source": [
    "**Python Dictionary**"
   ]
  },
  {
   "cell_type": "code",
   "execution_count": 59,
   "metadata": {
    "id": "LlPMPQcOcIcS"
   },
   "outputs": [],
   "source": [
    "# Creating an empty dictionary\n",
    "my_dict = {}\n",
    "\n",
    "# Adding key-value pairs to the dictionary\n",
    "my_dict['name'] = 'John'\n",
    "my_dict['age'] = 30\n",
    "my_dict['gender'] = 'male'"
   ]
  },
  {
   "cell_type": "code",
   "execution_count": 60,
   "metadata": {
    "id": "ybljrLfpcO6d"
   },
   "outputs": [
    {
     "name": "stdout",
     "output_type": "stream",
     "text": [
      "Dictionary: {'name': 'John', 'age': 30, 'gender': 'male'}\n"
     ]
    }
   ],
   "source": [
    "# Printing the dictionary\n",
    "print(\"Dictionary:\", my_dict)"
   ]
  },
  {
   "cell_type": "code",
   "execution_count": 61,
   "metadata": {
    "id": "DBkbPHstcTjL"
   },
   "outputs": [
    {
     "name": "stdout",
     "output_type": "stream",
     "text": [
      "Value for key 'name': John\n"
     ]
    }
   ],
   "source": [
    "# Accessing value using key\n",
    "print(\"Value for key 'name':\", my_dict['name'])"
   ]
  },
  {
   "cell_type": "code",
   "execution_count": 62,
   "metadata": {
    "id": "K0UTKor0cWSC"
   },
   "outputs": [
    {
     "name": "stdout",
     "output_type": "stream",
     "text": [
      "'age' is present in the dictionary.\n"
     ]
    }
   ],
   "source": [
    "# Checking if a key exists\n",
    "if 'age' in my_dict:\n",
    "    print(\"'age' is present in the dictionary.\")\n",
    "else:\n",
    "    print(\"'age' is not present in the dictionary.\")"
   ]
  },
  {
   "cell_type": "code",
   "execution_count": 63,
   "metadata": {
    "id": "Vfz-92oCcZBx"
   },
   "outputs": [
    {
     "name": "stdout",
     "output_type": "stream",
     "text": [
      "Removed value: 30\n",
      "Dictionary after removing 'age': {'name': 'John', 'gender': 'male'}\n"
     ]
    }
   ],
   "source": [
    "# Removing a key-value pair\n",
    "removed_value = my_dict.pop('age')\n",
    "print(\"Removed value:\", removed_value)\n",
    "print(\"Dictionary after removing 'age':\", my_dict)"
   ]
  },
  {
   "cell_type": "code",
   "execution_count": 64,
   "metadata": {
    "id": "c8JxjB2oceM9"
   },
   "outputs": [
    {
     "name": "stdout",
     "output_type": "stream",
     "text": [
      "Keys:\n",
      "name\n",
      "gender\n"
     ]
    }
   ],
   "source": [
    "# Iterating through keys and values\n",
    "print(\"Keys:\")\n",
    "for key in my_dict:\n",
    "    print(key)"
   ]
  },
  {
   "cell_type": "code",
   "execution_count": 65,
   "metadata": {
    "id": "_pCDb_5-ciJZ"
   },
   "outputs": [
    {
     "name": "stdout",
     "output_type": "stream",
     "text": [
      "Values:\n",
      "John\n",
      "male\n"
     ]
    }
   ],
   "source": [
    "print(\"Values:\")\n",
    "for value in my_dict.values():\n",
    "    print(value)"
   ]
  },
  {
   "cell_type": "code",
   "execution_count": 66,
   "metadata": {
    "id": "uEcBI7FKckiR"
   },
   "outputs": [
    {
     "name": "stdout",
     "output_type": "stream",
     "text": [
      "Length of dictionary: 2\n"
     ]
    }
   ],
   "source": [
    "# Checking the length of the dictionary\n",
    "print(\"Length of dictionary:\", len(my_dict))"
   ]
  },
  {
   "cell_type": "code",
   "execution_count": 67,
   "metadata": {
    "id": "CSnDS1eOcl29"
   },
   "outputs": [
    {
     "name": "stdout",
     "output_type": "stream",
     "text": [
      "Dictionary after clearing: {}\n"
     ]
    }
   ],
   "source": [
    "# Clearing the dictionary\n",
    "my_dict.clear()\n",
    "print(\"Dictionary after clearing:\", my_dict)"
   ]
  },
  {
   "cell_type": "markdown",
   "metadata": {
    "id": "WiwsqCvouF2C"
   },
   "source": [
    "**Python Function**"
   ]
  },
  {
   "cell_type": "code",
   "execution_count": null,
   "metadata": {
    "id": "Gw9DoWFluFjo"
   },
   "outputs": [
    {
     "name": "stdout",
     "output_type": "stream",
     "text": [
      "Sum:  9\n"
     ]
    },
    {
     "ename": "",
     "evalue": "",
     "output_type": "error",
     "traceback": [
      "\u001b[1;31mThe Kernel crashed while executing code in the current cell or a previous cell. \n",
      "\u001b[1;31mPlease review the code in the cell(s) to identify a possible cause of the failure. \n",
      "\u001b[1;31mClick <a href='https://aka.ms/vscodeJupyterKernelCrash'>here</a> for more info. \n",
      "\u001b[1;31mView Jupyter <a href='command:jupyter.viewOutput'>log</a> for further details."
     ]
    }
   ],
   "source": [
    "# function with two arguments\n",
    "def add_numbers(num1, num2):\n",
    "    sum = num1 + num2\n",
    "    print(\"Sum: \", sum)\n",
    "\n",
    "# function call\n",
    "add_numbers(5, 4)"
   ]
  }
 ],
 "metadata": {
  "colab": {
   "provenance": []
  },
  "kernelspec": {
   "display_name": "Python 3",
   "name": "python3"
  },
  "language_info": {
   "codemirror_mode": {
    "name": "ipython",
    "version": 3
   },
   "file_extension": ".py",
   "mimetype": "text/x-python",
   "name": "python",
   "nbconvert_exporter": "python",
   "pygments_lexer": "ipython3",
   "version": "3.13.0"
  }
 },
 "nbformat": 4,
 "nbformat_minor": 0
}
